{
 "cells": [
  {
   "cell_type": "code",
   "execution_count": 1,
   "metadata": {},
   "outputs": [],
   "source": [
    "import pandas as pd\n",
    "import matplotlib.pyplot as plt\n",
    "import statsmodels.api as sm\n",
    "%matplotlib inline"
   ]
  },
  {
   "cell_type": "markdown",
   "metadata": {},
   "source": [
    "# Gliserin"
   ]
  },
  {
   "cell_type": "markdown",
   "metadata": {},
   "source": [
    "## Faktor g"
   ]
  },
  {
   "cell_type": "code",
   "execution_count": 2,
   "metadata": {},
   "outputs": [
    {
     "name": "stdout",
     "output_type": "stream",
     "text": [
      "      f    V     I     B (T)      f (Hz)\n",
      "0  18.5  8.1  3.40  0.390402  18500000.0\n",
      "1  18.7  8.3  3.46  0.399838  18700000.0\n",
      "2  18.9  8.4  3.49  0.404555  18900000.0\n",
      "3  19.1  8.6  3.56  0.413991  19100000.0\n",
      "4  19.3  8.7  3.53  0.418708  19300000.0\n",
      "Persamaan:\n",
      "y = 27890486.331988752 x + 7590442.93439132\n",
      "Kesalahan: \n",
      "delta m = 1859365.7554659485\n"
     ]
    },
    {
     "data": {
      "image/png": "[encoded data removed]",
      "text/plain": [
       "<Figure size 432x288 with 1 Axes>"
      ]
     },
     "metadata": {
      "needs_background": "light"
     },
     "output_type": "display_data"
    }
   ],
   "source": [
    "df_gliserin = pd.read_csv(\"Gliserin.txt\", sep='\\t')\n",
    "df_gliserin_factg = df_gliserin[['f','V','I']].copy()\n",
    "df_gliserin_factg['B (T)'] = (47.177*df_gliserin_factg.loc[:,'V']+8.2684 )*1e-3\n",
    "df_gliserin_factg['f (Hz)'] = df_gliserin_factg['f']*1e6\n",
    "print(df_gliserin_factg)\n",
    "y_gliserin_factg = df_gliserin_factg['f (Hz)']\n",
    "x_gliserin_factg = df_gliserin_factg['B (T)']\n",
    "\n",
    "x_const_gliserin_factg = sm.add_constant(x_gliserin_factg)\n",
    "hasil_gliserin_factg = sm.OLS(y_gliserin_factg, x_const_gliserin_factg).fit()\n",
    "\n",
    "const_gliserin_factg = hasil_gliserin_factg.params[0]\n",
    "grad_gliserin_factg = hasil_gliserin_factg.params[1]\n",
    "print(f\"Persamaan:\\ny = {grad_gliserin_factg} x + {const_gliserin_factg}\")\n",
    "\n",
    "grad_err_gliserin_factg = hasil_gliserin_factg.bse[1]\n",
    "print(\"Kesalahan: \\ndelta m =\", grad_err_gliserin_factg)\n",
    "\n",
    "y_predict_gliserin_factg = grad_gliserin_factg*x_gliserin_factg + const_gliserin_factg\n",
    "plt.plot(x_gliserin_factg, y_gliserin_factg,'o', x_gliserin_factg, y_predict_gliserin_factg)\n",
    "plt.title(\"Grafik B vs f Percobaan Gliserin\")\n",
    "plt.xlabel(\"Medan magnet (T)\")\n",
    "plt.ylabel(\"Frekuensi (MHz)\")\n",
    "plt.show()"
   ]
  },
  {
   "cell_type": "code",
   "execution_count": 3,
   "metadata": {
    "pycharm": {
     "name": "#%%\n"
    }
   },
   "outputs": [
    {
     "name": "stdout",
     "output_type": "stream",
     "text": [
      "Faktor g: 3.6589283179771654\n",
      "delta Faktor g: 0.24392855453181517\n"
     ]
    }
   ],
   "source": [
    "h = 6.6261*1e-34\n",
    "mu_0 = 5.0508*1e-27\n",
    "g_fact_gliserin = (h*grad_gliserin_factg)/mu_0\n",
    "print(f\"Faktor g: {g_fact_gliserin}\")\n",
    "\n",
    "g_fact_err_gliserin = (h*grad_err_gliserin_factg)/mu_0\n",
    "print(f\"delta Faktor g: {g_fact_err_gliserin}\")"
   ]
  },
  {
   "cell_type": "code",
   "execution_count": 4,
   "metadata": {},
   "outputs": [
    {
     "name": "stderr",
     "output_type": "stream",
     "text": [
      "C:\\ProgramData\\Anaconda3\\lib\\site-packages\\statsmodels\\stats\\stattools.py:74: ValueWarning: omni_normtest is not valid with less than 8 observations; 5 samples were given.\n",
      "  warn(\"omni_normtest is not valid with less than 8 observations; %i \"\n"
     ]
    },
    {
     "name": "stdout",
     "output_type": "stream",
     "text": [
      "                            OLS Regression Results                            \n",
      "==============================================================================\n",
      "Dep. Variable:                 f (Hz)   R-squared:                       0.987\n",
      "Model:                            OLS   Adj. R-squared:                  0.982\n",
      "Method:                 Least Squares   F-statistic:                     225.0\n",
      "Date:                Thu, 29 Apr 2021   Prob (F-statistic):           0.000643\n",
      "Time:                        15:42:47   Log-Likelihood:                -59.031\n",
      "No. Observations:                   5   AIC:                             122.1\n",
      "Df Residuals:                       3   BIC:                             121.3\n",
      "Df Model:                           1                                         \n",
      "Covariance Type:            nonrobust                                         \n",
      "==============================================================================\n",
      "                 coef    std err          t      P>|t|      [0.025      0.975]\n",
      "------------------------------------------------------------------------------\n",
      "const        7.59e+06   7.54e+05     10.064      0.002    5.19e+06    9.99e+06\n",
      "B (T)       2.789e+07   1.86e+06     15.000      0.001     2.2e+07    3.38e+07\n",
      "==============================================================================\n",
      "Omnibus:                          nan   Durbin-Watson:                   3.295\n",
      "Prob(Omnibus):                    nan   Jarque-Bera (JB):                0.797\n",
      "Skew:                          -0.384   Prob(JB):                        0.671\n",
      "Kurtosis:                       1.201   Cond. No.                         116.\n",
      "==============================================================================\n",
      "\n",
      "Notes:\n",
      "[1] Standard Errors assume that the covariance matrix of the errors is correctly specified.\n"
     ]
    }
   ],
   "source": [
    "print(hasil_gliserin_factg.summary())"
   ]
  },
  {
   "cell_type": "markdown",
   "metadata": {
    "pycharm": {
     "name": "#%% md\n"
    }
   },
   "source": [
    "## Kesalahan"
   ]
  },
  {
   "cell_type": "code",
   "execution_count": 5,
   "metadata": {
    "pycharm": {
     "name": "#%%\n"
    }
   },
   "outputs": [
    {
     "name": "stdout",
     "output_type": "stream",
     "text": [
      "Kesalahan relatif: 6.666666666666781%\n",
      "Kesalahan literatur: 34.50996388084543%\n"
     ]
    }
   ],
   "source": [
    "err_relative_g_fact_gliserin = abs(g_fact_err_gliserin/g_fact_gliserin)*100\n",
    "print(f\"Kesalahan relatif: {err_relative_g_fact_gliserin}%\")\n",
    "g_fact_lit_gliserin = 5.587\n",
    "err_abs_g_fact_gliserin = abs((g_fact_lit_gliserin-g_fact_gliserin)/g_fact_lit_gliserin)*100\n",
    "print(f\"Kesalahan literatur: {err_abs_g_fact_gliserin}%\")"
   ]
  },
  {
   "cell_type": "markdown",
   "metadata": {},
   "source": [
    "## Waktu Relaksasi"
   ]
  },
  {
   "cell_type": "code",
   "execution_count": 6,
   "metadata": {},
   "outputs": [
    {
     "name": "stdout",
     "output_type": "stream",
     "text": [
      "Waktu Relaksasi: T = 0.24673690443879695 s\n"
     ]
    }
   ],
   "source": [
    "df_gliserin_relax_time = df_gliserin.iloc[1:2,3:5].rename(columns=df_gliserin.iloc[0]).copy()\n",
    "gliserin_relax_time = 1/(float(df_gliserin_relax_time['Vkanan']) - float(df_gliserin_relax_time['Vkiri']))\n",
    "print('Waktu Relaksasi: T =',gliserin_relax_time,'s')"
   ]
  },
  {
   "cell_type": "markdown",
   "metadata": {
    "pycharm": {
     "name": "#%% md\n"
    }
   },
   "source": [
    "# Polystyrene"
   ]
  },
  {
   "cell_type": "markdown",
   "metadata": {
    "pycharm": {
     "name": "#%% md\n"
    }
   },
   "source": [
    "## Faktor g"
   ]
  },
  {
   "cell_type": "code",
   "execution_count": 7,
   "metadata": {
    "pycharm": {
     "name": "#%%\n"
    }
   },
   "outputs": [
    {
     "name": "stdout",
     "output_type": "stream",
     "text": [
      "       f     V     I     B (T)      f (Hz)\n",
      "0  18.50   9.1  3.70  0.437579  18500000.0\n",
      "1  18.70   9.4  3.80  0.451732  18700000.0\n",
      "2  18.90   9.6  3.89  0.461168  18900000.0\n",
      "3  19.10   9.8  3.98  0.470603  19100000.0\n",
      "4  19.28  10.0  4.03  0.480038  19280000.0\n",
      "Persamaan:\n",
      "y = 18746979.02597046 x + 10268189.199933022\n",
      "Kesalahan: \n",
      "delta m = 893557.8757378216\n"
     ]
    },
    {
     "data": {
      "image/png": "[encoded data removed]",
      "text/plain": [
       "<Figure size 432x288 with 1 Axes>"
      ]
     },
     "metadata": {
      "needs_background": "light"
     },
     "output_type": "display_data"
    }
   ],
   "source": [
    "df_polystyrene = pd.read_csv(\"Polystyrene.txt\", sep='\\t')\n",
    "df_polystyrene_factg = df_polystyrene[['f','V','I']].copy()\n",
    "df_polystyrene_factg['B (T)'] = (47.177*df_polystyrene_factg.loc[:,'V']+8.2684 )*1e-3\n",
    "df_polystyrene_factg['f (Hz)'] = df_polystyrene_factg['f']*1e6\n",
    "print(df_polystyrene_factg)\n",
    "y_polystyrene_factg = df_polystyrene_factg['f (Hz)']\n",
    "x_polystyrene_factg = df_polystyrene_factg['B (T)']\n",
    "\n",
    "x_const_polystyrene_factg = sm.add_constant(x_polystyrene_factg)\n",
    "hasil_polystyrene_factg = sm.OLS(y_polystyrene_factg, x_const_polystyrene_factg).fit()\n",
    "\n",
    "const_polystyrene_factg = hasil_polystyrene_factg.params[0]\n",
    "grad_polystyrene_factg = hasil_polystyrene_factg.params[1]\n",
    "print(f\"Persamaan:\\ny = {grad_polystyrene_factg} x + {const_polystyrene_factg}\")\n",
    "\n",
    "grad_err_polystyrene_factg = hasil_polystyrene_factg.bse[1]\n",
    "print(\"Kesalahan: \\ndelta m =\", grad_err_polystyrene_factg)\n",
    "\n",
    "y_predict_polystyrene_factg = grad_polystyrene_factg*x_polystyrene_factg + const_polystyrene_factg\n",
    "plt.plot(x_polystyrene_factg, y_polystyrene_factg,'o', x_polystyrene_factg, y_predict_polystyrene_factg)\n",
    "plt.title(\"Grafik B vs f Percobaan Polystyrene\")\n",
    "plt.xlabel(\"Medan magnet (T)\")\n",
    "plt.ylabel(\"Frekuensi (MHz)\")\n",
    "plt.show()"
   ]
  },
  {
   "cell_type": "code",
   "execution_count": 8,
   "metadata": {
    "pycharm": {
     "name": "#%%\n"
    }
   },
   "outputs": [
    {
     "name": "stdout",
     "output_type": "stream",
     "text": [
      "Faktor g: 2.4593996539950673\n",
      "delta Faktor g: 0.11722507009634868\n"
     ]
    }
   ],
   "source": [
    "h = 6.6261*1e-34\n",
    "mu_0 = 5.0508*1e-27\n",
    "g_fact_polystyrene = (h*grad_polystyrene_factg)/mu_0\n",
    "print(f\"Faktor g: {g_fact_polystyrene}\")\n",
    "\n",
    "g_fact_err_polystyrene = (h*grad_err_polystyrene_factg)/mu_0\n",
    "print(f\"delta Faktor g: {g_fact_err_polystyrene}\")"
   ]
  },
  {
   "cell_type": "code",
   "execution_count": 9,
   "metadata": {
    "pycharm": {
     "name": "#%%\n"
    }
   },
   "outputs": [
    {
     "name": "stdout",
     "output_type": "stream",
     "text": [
      "                            OLS Regression Results                            \n",
      "==============================================================================\n",
      "Dep. Variable:                 f (Hz)   R-squared:                       0.993\n",
      "Model:                            OLS   Adj. R-squared:                  0.991\n",
      "Method:                 Least Squares   F-statistic:                     440.2\n",
      "Date:                Thu, 29 Apr 2021   Prob (F-statistic):           0.000237\n",
      "Time:                        15:42:48   Log-Likelihood:                -57.270\n",
      "No. Observations:                   5   AIC:                             118.5\n",
      "Df Residuals:                       3   BIC:                             117.8\n",
      "Df Model:                           1                                         \n",
      "Covariance Type:            nonrobust                                         \n",
      "==============================================================================\n",
      "                 coef    std err          t      P>|t|      [0.025      0.975]\n",
      "------------------------------------------------------------------------------\n",
      "const       1.027e+07   4.11e+05     24.956      0.000    8.96e+06    1.16e+07\n",
      "B (T)       1.875e+07   8.94e+05     20.980      0.000    1.59e+07    2.16e+07\n",
      "==============================================================================\n",
      "Omnibus:                          nan   Durbin-Watson:                   2.055\n",
      "Prob(Omnibus):                    nan   Jarque-Bera (JB):                0.420\n",
      "Skew:                          -0.445   Prob(JB):                        0.811\n",
      "Kurtosis:                       1.894   Cond. No.                         82.2\n",
      "==============================================================================\n",
      "\n",
      "Notes:\n",
      "[1] Standard Errors assume that the covariance matrix of the errors is correctly specified.\n"
     ]
    },
    {
     "name": "stderr",
     "output_type": "stream",
     "text": [
      "C:\\ProgramData\\Anaconda3\\lib\\site-packages\\statsmodels\\stats\\stattools.py:74: ValueWarning: omni_normtest is not valid with less than 8 observations; 5 samples were given.\n",
      "  warn(\"omni_normtest is not valid with less than 8 observations; %i \"\n"
     ]
    }
   ],
   "source": [
    "print(hasil_polystyrene_factg.summary())"
   ]
  },
  {
   "cell_type": "markdown",
   "metadata": {
    "pycharm": {
     "name": "#%% md\n"
    }
   },
   "source": [
    "## Kesalahan"
   ]
  },
  {
   "cell_type": "code",
   "execution_count": 10,
   "metadata": {
    "pycharm": {
     "name": "#%%\n"
    }
   },
   "outputs": [
    {
     "name": "stdout",
     "output_type": "stream",
     "text": [
      "Kesalahan relatif: 4.766409961306102%\n",
      "Kesalahan literatur: 55.97995965643337%\n"
     ]
    }
   ],
   "source": [
    "err_relative_g_fact_polystyrene = abs(g_fact_err_polystyrene/g_fact_polystyrene)*100\n",
    "print(f\"Kesalahan relatif: {err_relative_g_fact_polystyrene}%\")\n",
    "g_fact_lit_polystyrene = 5.587\n",
    "err_abs_g_fact_polystyrene = abs((g_fact_lit_polystyrene-g_fact_polystyrene)/g_fact_lit_polystyrene)*100\n",
    "print(f\"Kesalahan literatur: {err_abs_g_fact_polystyrene}%\")"
   ]
  },
  {
   "cell_type": "markdown",
   "metadata": {
    "pycharm": {
     "name": "#%% md\n"
    }
   },
   "source": [
    "## Waktu Relaksasi"
   ]
  },
  {
   "cell_type": "code",
   "execution_count": 11,
   "metadata": {
    "pycharm": {
     "name": "#%%\n"
    }
   },
   "outputs": [
    {
     "name": "stdout",
     "output_type": "stream",
     "text": [
      "Waktu Relaksasi: T = 7.047216349541946 s\n"
     ]
    }
   ],
   "source": [
    "df_polystyrene_relax_time = df_polystyrene.iloc[1:2,3:5].rename(columns=df_polystyrene.iloc[0]).copy()\n",
    "polystyrene_relax_time = 1/(float(df_polystyrene_relax_time['Vkanan']) - float(df_polystyrene_relax_time['Vkiri']))\n",
    "print('Waktu Relaksasi: T =',polystyrene_relax_time,'s')"
   ]
  },
  {
   "cell_type": "markdown",
   "metadata": {},
   "source": [
    "# Teflon"
   ]
  },
  {
   "cell_type": "markdown",
   "metadata": {},
   "source": [
    "## Faktor g"
   ]
  },
  {
   "cell_type": "code",
   "execution_count": 12,
   "metadata": {
    "pycharm": {
     "name": "#%%\n"
    }
   },
   "outputs": [
    {
     "name": "stdout",
     "output_type": "stream",
     "text": [
      "       f    V     I     B (T)\n",
      "0  18.50  8.5  3.39  0.409273\n",
      "1  18.70  8.6  3.44  0.413991\n",
      "2  18.90  8.7  3.50  0.418708\n",
      "3  19.10  8.9  3.55  0.428144\n",
      "4  19.26  9.0  3.59  0.432861\n",
      "Persamaan:\n",
      "y = 30759963.34437728 x + 5954501.528385639\n",
      "Kesalahan: \n",
      "delta m = 2481117.847062493\n"
     ]
    },
    {
     "data": {
      "image/png": "[encoded data removed]",
      "text/plain": [
       "<Figure size 432x288 with 1 Axes>"
      ]
     },
     "metadata": {
      "needs_background": "light"
     },
     "output_type": "display_data"
    }
   ],
   "source": [
    "df_teflon = pd.read_csv(\"Teflon.txt\", sep='\\t')\n",
    "df_teflon_factg = df_teflon[['f','V','I']].copy()\n",
    "df_teflon_factg['B (T)'] = (47.177*df_teflon_factg.loc[:,'V']+8.2684 )*1e-3\n",
    "print(df_teflon_factg)\n",
    "df_teflon_factg['f (Hz)'] = df_teflon_factg['f']*1e6\n",
    "y_teflon_factg = df_teflon_factg['f (Hz)']\n",
    "x_teflon_factg = df_teflon_factg['B (T)']\n",
    "\n",
    "x_const_teflon_factg = sm.add_constant(x_teflon_factg)\n",
    "hasil_teflon_factg = sm.OLS(y_teflon_factg, x_const_teflon_factg).fit()\n",
    "\n",
    "const_teflon_factg = hasil_teflon_factg.params[0]\n",
    "grad_teflon_factg = hasil_teflon_factg.params[1]\n",
    "print(f\"Persamaan:\\ny = {grad_teflon_factg} x + {const_teflon_factg}\")\n",
    "\n",
    "grad_err_teflon_factg = hasil_teflon_factg.bse[1]\n",
    "print(\"Kesalahan: \\ndelta m =\", grad_err_teflon_factg)\n",
    "\n",
    "y_predict_teflon_factg = grad_teflon_factg*x_teflon_factg + const_teflon_factg\n",
    "plt.plot(x_teflon_factg, y_teflon_factg,'o', x_teflon_factg, y_predict_teflon_factg)\n",
    "plt.title(\"Grafik B vs f Percobaan Teflon\")\n",
    "plt.xlabel(\"Medan magnet (T)\")\n",
    "plt.ylabel(\"Frekuensi (MHz)\")\n",
    "plt.show()"
   ]
  },
  {
   "cell_type": "code",
   "execution_count": 13,
   "metadata": {
    "pycharm": {
     "name": "#%%\n"
    }
   },
   "outputs": [
    {
     "name": "stdout",
     "output_type": "stream",
     "text": [
      "Faktor g: 4.035372477947618\n",
      "delta Faktor g: 0.3254956633883897\n"
     ]
    }
   ],
   "source": [
    "h = 6.6261*1e-34\n",
    "mu_0 = 5.0508*1e-27\n",
    "g_fact_teflon = (h*grad_teflon_factg)/mu_0\n",
    "print(f\"Faktor g: {g_fact_teflon}\")\n",
    "\n",
    "g_fact_err_teflon = (h*grad_err_teflon_factg)/mu_0\n",
    "print(f\"delta Faktor g: {g_fact_err_teflon}\")"
   ]
  },
  {
   "cell_type": "code",
   "execution_count": 14,
   "metadata": {
    "pycharm": {
     "name": "#%%\n"
    }
   },
   "outputs": [
    {
     "name": "stdout",
     "output_type": "stream",
     "text": [
      "                            OLS Regression Results                            \n",
      "==============================================================================\n",
      "Dep. Variable:                 f (Hz)   R-squared:                       0.981\n",
      "Model:                            OLS   Adj. R-squared:                  0.974\n",
      "Method:                 Least Squares   F-statistic:                     153.7\n",
      "Date:                Thu, 29 Apr 2021   Prob (F-statistic):            0.00113\n",
      "Time:                        15:42:49   Log-Likelihood:                -59.769\n",
      "No. Observations:                   5   AIC:                             123.5\n",
      "Df Residuals:                       3   BIC:                             122.8\n",
      "Df Model:                           1                                         \n",
      "Covariance Type:            nonrobust                                         \n",
      "==============================================================================\n",
      "                 coef    std err          t      P>|t|      [0.025      0.975]\n",
      "------------------------------------------------------------------------------\n",
      "const       5.955e+06   1.04e+06      5.705      0.011    2.63e+06    9.28e+06\n",
      "B (T)       3.076e+07   2.48e+06     12.398      0.001    2.29e+07    3.87e+07\n",
      "==============================================================================\n",
      "Omnibus:                          nan   Durbin-Watson:                   2.035\n",
      "Prob(Omnibus):                    nan   Jarque-Bera (JB):                0.530\n",
      "Skew:                           0.718   Prob(JB):                        0.767\n",
      "Kurtosis:                       2.306   Cond. No.                         135.\n",
      "==============================================================================\n",
      "\n",
      "Notes:\n",
      "[1] Standard Errors assume that the covariance matrix of the errors is correctly specified.\n"
     ]
    },
    {
     "name": "stderr",
     "output_type": "stream",
     "text": [
      "C:\\ProgramData\\Anaconda3\\lib\\site-packages\\statsmodels\\stats\\stattools.py:74: ValueWarning: omni_normtest is not valid with less than 8 observations; 5 samples were given.\n",
      "  warn(\"omni_normtest is not valid with less than 8 observations; %i \"\n"
     ]
    }
   ],
   "source": [
    "print(hasil_teflon_factg.summary())"
   ]
  },
  {
   "cell_type": "markdown",
   "metadata": {},
   "source": [
    "## Kesalahan"
   ]
  },
  {
   "cell_type": "code",
   "execution_count": 15,
   "metadata": {
    "pycharm": {
     "name": "#%%\n"
    }
   },
   "outputs": [
    {
     "name": "stdout",
     "output_type": "stream",
     "text": [
      "Kesalahan relatif: 8.06606243084495%\n",
      "Kesalahan literatur: 23.233730706572224%\n"
     ]
    }
   ],
   "source": [
    "err_relative_g_fact_teflon = abs(g_fact_err_teflon/g_fact_teflon)*100\n",
    "print(f\"Kesalahan relatif: {err_relative_g_fact_teflon}%\")\n",
    "g_fact_lit_teflon = 5.2567\n",
    "err_abs_g_fact_teflon = abs((g_fact_lit_teflon-g_fact_teflon)/g_fact_lit_teflon)*100\n",
    "print(f\"Kesalahan literatur: {err_abs_g_fact_teflon}%\")"
   ]
  },
  {
   "cell_type": "markdown",
   "metadata": {},
   "source": [
    "## Waktu Relaksasi"
   ]
  },
  {
   "cell_type": "code",
   "execution_count": 16,
   "metadata": {
    "pycharm": {
     "name": "#%%\n"
    }
   },
   "outputs": [
    {
     "name": "stdout",
     "output_type": "stream",
     "text": [
      "Waktu Relaksasi: T = 32.154340836014335 s\n"
     ]
    }
   ],
   "source": [
    "df_teflon_relax_time = df_teflon.iloc[1:2,3:5].rename(columns=df_teflon.iloc[0]).copy()\n",
    "teflon_relax_time = 1/(float(df_teflon_relax_time['Vkanan']) - float(df_teflon_relax_time['Vkiri']))\n",
    "print('Waktu Relaksasi: T =',teflon_relax_time,'s')"
   ]
  }
 ],
 "metadata": {
  "kernelspec": {
   "display_name": "Python 3",
   "language": "python",
   "name": "python3"
  },
  "language_info": {
   "codemirror_mode": {
    "name": "ipython",
    "version": 3
   },
   "file_extension": ".py",
   "mimetype": "text/x-python",
   "name": "python",
   "nbconvert_exporter": "python",
   "pygments_lexer": "ipython3",
   "version": "3.8.5"
  }
 },
 "nbformat": 4,
 "nbformat_minor": 4
}
