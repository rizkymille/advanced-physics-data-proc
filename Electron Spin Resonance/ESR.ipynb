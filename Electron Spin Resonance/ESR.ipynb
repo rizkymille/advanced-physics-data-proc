{
 "cells": [
  {
   "cell_type": "code",
   "execution_count": 63,
   "source": [
    "import pandas as pd\n",
    "import numpy as np\n",
    "import statsmodels.api as sm\n",
    "import matplotlib.pyplot as plt\n",
    "import math\n",
    "\n",
    "%matplotlib inline"
   ],
   "outputs": [],
   "metadata": {}
  },
  {
   "cell_type": "markdown",
   "source": [
    "# Percobaan 1"
   ],
   "metadata": {}
  },
  {
   "cell_type": "code",
   "execution_count": 64,
   "source": [
    "Rm = pd.read_csv('Percobaan 1.txt','\\t')\n",
    "\n",
    "u0 = 4*math.pi*(10**-7)\n",
    "n = 320\n",
    "r = 6.8\n",
    "I = [0.242, 0.309, 0.341, 0.375]\n",
    "\n",
    "def mag_field(I):\n",
    "    return u0*((4/5)**(3/2))*(n*I)/r\n",
    "\n",
    "Rm['B (mT)']=Rm.apply(lambda row : mag_field(row['I (A)']*100000), axis = 1)\n",
    "print(Rm)\n"
   ],
   "outputs": [
    {
     "output_type": "stream",
     "name": "stdout",
     "text": [
      "   V (MHz)  I (A)    B (mT)\n",
      "0     30.6  0.242  1.024003\n",
      "1     34.5  0.309  1.307508\n",
      "2     39.8  0.341  1.442913\n",
      "3     45.0  0.375  1.586782\n"
     ]
    }
   ],
   "metadata": {}
  },
  {
   "cell_type": "code",
   "execution_count": 92,
   "source": [
    "x = Rm[\"B (mT)\"]\r\n",
    "y = Rm[\"V (MHz)\"]\r\n",
    "x_const = sm.add_constant(x)\r\n",
    "hasil = sm.OLS(y, x_const).fit()\r\n",
    "\r\n",
    "const = hasil.params[0]\r\n",
    "grad = hasil.params[1]\r\n",
    "print(\"Persamaan:\\ny =\", grad, \"x +\", const)\r\n",
    "\r\n",
    "grad_err = hasil.bse[1]\r\n",
    "const_err = hasil.bse[0]\r\n",
    "print(\"Kesalahan: \\ndelta m = \", grad_err, \"\\ndelta c = \", const_err)\r\n",
    "\r\n",
    "y_predict = grad*x + const\r\n",
    "plt.plot(x, y, 'o', label = 'percobaan')\r\n",
    "plt.plot(x, y_predict, label = 'regresi')\r\n",
    "plt.legend()\r\n",
    "plt.xlabel(\"B (mT)\")\r\n",
    "plt.ylabel(\"V (MHz)\")\r\n",
    "plt.title(\"Grafik Regresi Percobaan 1\")\r\n",
    "plt.grid()\r\n",
    "plt.show()\r\n",
    "\r\n",
    "print(hasil.summary())"
   ],
   "outputs": [
    {
     "output_type": "stream",
     "name": "stdout",
     "text": [
      "Persamaan:\n",
      "y = 25.32136337640074 x + 3.5367363364922966\n",
      "Kesalahan: \n",
      "delta m =  4.697436993468474 \n",
      "delta c =  6.371062989503467\n"
     ]
    },
    {
     "output_type": "display_data",
     "data": {
      "text/plain": [
       "<Figure size 432x288 with 1 Axes>"
      ],
      "image/png": "[encoded data removed]"
     },
     "metadata": {
      "needs_background": "light"
     }
    },
    {
     "output_type": "stream",
     "name": "stdout",
     "text": [
      "                            OLS Regression Results                            \n",
      "==============================================================================\n",
      "Dep. Variable:                V (MHz)   R-squared:                       0.936\n",
      "Model:                            OLS   Adj. R-squared:                  0.903\n",
      "Method:                 Least Squares   F-statistic:                     29.06\n",
      "Date:                Wed, 19 May 2021   Prob (F-statistic):             0.0327\n",
      "Time:                        22:57:50   Log-Likelihood:                -6.9617\n",
      "No. Observations:                   4   AIC:                             17.92\n",
      "Df Residuals:                       2   BIC:                             16.70\n",
      "Df Model:                           1                                         \n",
      "Covariance Type:            nonrobust                                         \n",
      "==============================================================================\n",
      "                 coef    std err          t      P>|t|      [0.025      0.975]\n",
      "------------------------------------------------------------------------------\n",
      "const          3.5367      6.371      0.555      0.635     -23.876      30.949\n",
      "B (mT)        25.3214      4.697      5.390      0.033       5.110      45.533\n",
      "==============================================================================\n",
      "Omnibus:                          nan   Durbin-Watson:                   2.192\n",
      "Prob(Omnibus):                    nan   Jarque-Bera (JB):                0.496\n",
      "Skew:                          -0.601   Prob(JB):                        0.781\n",
      "Kurtosis:                       1.764   Cond. No.                         13.6\n",
      "==============================================================================\n",
      "\n",
      "Notes:\n",
      "[1] Standard Errors assume that the covariance matrix of the errors is correctly specified.\n"
     ]
    },
    {
     "output_type": "stream",
     "name": "stderr",
     "text": [
      "C:\\Users\\gesha\\anaconda3\\lib\\site-packages\\statsmodels\\stats\\stattools.py:74: ValueWarning: omni_normtest is not valid with less than 8 observations; 4 samples were given.\n",
      "  warn(\"omni_normtest is not valid with less than 8 observations; %i \"\n"
     ]
    }
   ],
   "metadata": {}
  },
  {
   "cell_type": "markdown",
   "source": [
    "# Percobaan 2"
   ],
   "metadata": {}
  },
  {
   "cell_type": "code",
   "execution_count": 89,
   "source": [
    "Bm = pd.read_csv('Percobaan 2.txt','\\t')\r\n",
    "\r\n",
    "Skala = 0.2\r\n",
    "Imod = 0.3*(2*math.sqrt(2))\r\n",
    "Umod = 5\r\n",
    "\r\n",
    "def dU(Linewidth):\r\n",
    "    return Linewidth*Skala\r\n",
    "def dI(dU):\r\n",
    "    return (dU/Umod)*Imod\r\n",
    "def dB(dI):\r\n",
    "    return (u0*((4/5)**(3/2))*(n*I)/r)*dI\r\n",
    "\r\n",
    "Bm['dU']=Bm.apply(lambda row : dU(row['Linewidth (cm)']), axis = 1)\r\n",
    "Bm['dI']=Bm.apply(lambda row : dU(row['dU']), axis = 1)\r\n",
    "Bm['dB']=Bm.apply(lambda row : dU(row['dI']), axis = 1)\r\n",
    "\r\n",
    "print(Bm)"
   ],
   "outputs": [
    {
     "output_type": "stream",
     "name": "stdout",
     "text": [
      "   Frekuensi (MHz)  Linewidth (cm)    dU     dI      dB\n",
      "0             30.6             1.2  0.24  0.048  0.0096\n",
      "1             34.5             1.4  0.28  0.056  0.0112\n",
      "2             39.8             1.3  0.26  0.052  0.0104\n",
      "3             45.0             1.5  0.30  0.060  0.0120\n"
     ]
    }
   ],
   "metadata": {}
  },
  {
   "cell_type": "markdown",
   "source": [
    "# Menulis ke Excel"
   ],
   "metadata": {}
  },
  {
   "cell_type": "code",
   "execution_count": 91,
   "source": [
    "writer = pd.ExcelWriter('Pengolahan Data ESR.xlsx', engine='xlsxwriter')\r\n",
    "Rm.to_excel(writer, sheet_name='Percobaan 1')\r\n",
    "Bm.to_excel(writer, sheet_name='Percobaan 2')\r\n",
    "\r\n",
    "writer.save()"
   ],
   "outputs": [],
   "metadata": {}
  }
 ],
 "metadata": {
  "kernelspec": {
   "display_name": "Python 3",
   "language": "python",
   "name": "python3"
  },
  "language_info": {
   "codemirror_mode": {
    "name": "ipython",
    "version": 3
   },
   "file_extension": ".py",
   "mimetype": "text/x-python",
   "name": "python",
   "nbconvert_exporter": "python",
   "pygments_lexer": "ipython3",
   "version": "3.8.10"
  }
 },
 "nbformat": 4,
 "nbformat_minor": 5
}