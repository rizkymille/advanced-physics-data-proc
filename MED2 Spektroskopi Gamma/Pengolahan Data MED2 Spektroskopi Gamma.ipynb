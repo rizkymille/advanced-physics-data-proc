{
 "cells": [
  {
   "cell_type": "code",
   "execution_count": 2,
   "metadata": {},
   "outputs": [],
   "source": [
    "import pandas as pd\n",
    "import statsmodels.api as sm\n",
    "import matplotlib.pyplot as plt\n",
    "import math\n",
    "%matplotlib inline"
   ]
  },
  {
   "cell_type": "markdown",
   "metadata": {},
   "source": [
    "# Kalibrasi Detektor"
   ]
  },
  {
   "cell_type": "code",
   "execution_count": 8,
   "metadata": {},
   "outputs": [
    {
     "name": "stdout",
     "output_type": "stream",
     "text": [
      "Persamaan:\n",
      "y = 11.148405466970392 x -96.06617312072902\n"
     ]
    },
    {
     "data": {
      "image/png": "[encoded data removed]",
      "text/plain": [
       "<Figure size 432x288 with 1 Axes>"
      ]
     },
     "metadata": {
      "needs_background": "light"
     },
     "output_type": "display_data"
    }
   ],
   "source": [
    "d = {'Energy (keV)': [48.90, 160.30, 561.70], 'Channel': [13, 23, 59]}\n",
    "df_cal = pd.DataFrame(data=d)\n",
    "x_cal = df_cal[\"Channel\"]\n",
    "y_cal = df_cal[\"Energy (keV)\"]\n",
    "\n",
    "addConst_cal = sm.add_constant(x_cal)\n",
    "result_cal = sm.OLS(y_cal, addConst_cal).fit()\n",
    "\n",
    "const_cal = result_cal.params[0]\n",
    "grad_cal = result_cal.params[1]\n",
    "print(f\"Persamaan:\\ny = {grad_cal} x {const_cal}\")\n",
    "\n",
    "yPred_cal = grad_cal*x_cal+const_cal\n",
    "plt.plot(x_cal,y_cal,'o',x_cal,yPred_cal)\n",
    "plt.title(\"Regresi linier kalibrasi energi\")\n",
    "plt.xlabel(\"Channel\")\n",
    "plt.ylabel(\"Energy (keV)\")\n",
    "plt.show()"
   ]
  },
  {
   "cell_type": "markdown",
   "metadata": {},
   "source": [
    "# Aktivitas Sumber"
   ]
  },
  {
   "cell_type": "code",
   "execution_count": 4,
   "metadata": {},
   "outputs": [
    {
     "name": "stdout",
     "output_type": "stream",
     "text": [
      "5031.980632382839\n"
     ]
    }
   ],
   "source": [
    "t = 20.4\n",
    "t_half = 5.26\n",
    "A0 = 74*1e3\n",
    "A = A0*math.exp((-math.log(2)*t)/t_half)\n",
    "print(A)"
   ]
  },
  {
   "cell_type": "markdown",
   "metadata": {},
   "source": [
    "# Efisiensi"
   ]
  },
  {
   "cell_type": "code",
   "execution_count": 5,
   "metadata": {},
   "outputs": [
    {
     "name": "stdout",
     "output_type": "stream",
     "text": [
      "0.19564397937804082 %\n"
     ]
    }
   ],
   "source": [
    "area = 983\n",
    "Lt = 100\n",
    "p = 99.85/100\n",
    "efficiency = (area/Lt)*100/(A*p)\n",
    "print(efficiency,'%')"
   ]
  },
  {
   "cell_type": "markdown",
   "metadata": {},
   "source": [
    "# Peak to Compton Ratio"
   ]
  },
  {
   "cell_type": "code",
   "execution_count": 6,
   "metadata": {},
   "outputs": [
    {
     "name": "stdout",
     "output_type": "stream",
     "text": [
      "10.425824175824177\n"
     ]
    }
   ],
   "source": [
    "Cp = 253\n",
    "INT = 1092\n",
    "Ch1 = 131\n",
    "Ch2 = 175\n",
    "PC = Cp/(INT/(Ch2-Ch1+1))\n",
    "print(PC)"
   ]
  },
  {
   "cell_type": "code",
   "execution_count": null,
   "metadata": {},
   "outputs": [],
   "source": []
  }
 ],
 "metadata": {
  "kernelspec": {
   "display_name": "Python 3",
   "language": "python",
   "name": "python3"
  },
  "language_info": {
   "codemirror_mode": {
    "name": "ipython",
    "version": 3
   },
   "file_extension": ".py",
   "mimetype": "text/x-python",
   "name": "python",
   "nbconvert_exporter": "python",
   "pygments_lexer": "ipython3",
   "version": "3.8.5"
  }
 },
 "nbformat": 4,
 "nbformat_minor": 4
}
