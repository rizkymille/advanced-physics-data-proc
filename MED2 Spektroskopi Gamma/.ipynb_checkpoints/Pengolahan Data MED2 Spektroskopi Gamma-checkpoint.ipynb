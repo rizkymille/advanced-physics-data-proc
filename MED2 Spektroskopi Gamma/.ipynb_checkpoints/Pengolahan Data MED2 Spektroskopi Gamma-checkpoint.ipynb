{
 "cells": [
  {
   "cell_type": "code",
   "execution_count": 5,
   "metadata": {},
   "outputs": [],
   "source": [
    "import pandas as pd\n",
    "import statsmodels.api as sm\n",
    "import matplotlib.pyplot as plt\n",
    "import math\n",
    "%matplotlib inline"
   ]
  },
  {
   "cell_type": "markdown",
   "metadata": {},
   "source": [
    "# Aktivitas Sumber"
   ]
  },
  {
   "cell_type": "code",
   "execution_count": 36,
   "metadata": {},
   "outputs": [
    {
     "name": "stdout",
     "output_type": "stream",
     "text": [
      "5031.980632382839\n"
     ]
    }
   ],
   "source": [
    "t = 20.4\n",
    "t_half = 5.26\n",
    "A0 = 74*1e3\n",
    "A = A0*math.exp((-math.log(2)*t)/t_half)\n",
    "print(A)"
   ]
  },
  {
   "cell_type": "markdown",
   "metadata": {},
   "source": [
    "# Efisiensi"
   ]
  },
  {
   "cell_type": "code",
   "execution_count": 18,
   "metadata": {},
   "outputs": [
    {
     "name": "stdout",
     "output_type": "stream",
     "text": [
      "0.19564397937804082 %\n"
     ]
    }
   ],
   "source": [
    "area = 983\n",
    "Lt = 100\n",
    "p = 99.85/100\n",
    "efficiency = (area/Lt)*100/(A*p)\n",
    "print(efficiency,'%')"
   ]
  },
  {
   "cell_type": "markdown",
   "metadata": {},
   "source": [
    "# Peak to Compton Ratio"
   ]
  },
  {
   "cell_type": "code",
   "execution_count": 23,
   "metadata": {},
   "outputs": [
    {
     "name": "stdout",
     "output_type": "stream",
     "text": [
      "10.425824175824177\n"
     ]
    }
   ],
   "source": [
    "Cp = 253\n",
    "INT = 1092\n",
    "Ch1 = 131\n",
    "Ch2 = 175\n",
    "PC = Cp/(INT/(Ch2-Ch1+1))\n",
    "print(PC)"
   ]
  },
  {
   "cell_type": "code",
   "execution_count": null,
   "metadata": {},
   "outputs": [],
   "source": []
  }
 ],
 "metadata": {
  "kernelspec": {
   "display_name": "Python 3",
   "language": "python",
   "name": "python3"
  },
  "language_info": {
   "codemirror_mode": {
    "name": "ipython",
    "version": 3
   },
   "file_extension": ".py",
   "mimetype": "text/x-python",
   "name": "python",
   "nbconvert_exporter": "python",
   "pygments_lexer": "ipython3",
   "version": "3.8.5"
  }
 },
 "nbformat": 4,
 "nbformat_minor": 4
}
