{
 "cells": [
  {
   "cell_type": "code",
   "execution_count": 1,
   "id": "c746d741",
   "metadata": {},
   "outputs": [],
   "source": [
    "import pandas as pd\n",
    "import numpy as np\n",
    "import statsmodels.api as sm\n",
    "import matplotlib.pyplot as plt\n",
    "%matplotlib inline"
   ]
  },
  {
   "cell_type": "code",
   "execution_count": 8,
   "id": "2a3ea965",
   "metadata": {},
   "outputs": [
    {
     "name": "stderr",
     "output_type": "stream",
     "text": [
      "No handles with labels found to put in legend.\n"
     ]
    },
    {
     "name": "stdout",
     "output_type": "stream",
     "text": [
      "Persamaan:\n",
      "y = -0.06369244962294592 x + 42.85917488278674\n",
      "Kesalahan: \n",
      "delta m =  0.004344327906555923 \n",
      "delta c =  1.9622814427783688\n"
     ]
    },
    {
     "data": {
      "image/png": "[encoded data removed]",
      "text/plain": [
       "<Figure size 432x288 with 1 Axes>"
      ]
     },
     "metadata": {
      "needs_background": "light"
     },
     "output_type": "display_data"
    },
    {
     "name": "stdout",
     "output_type": "stream",
     "text": [
      "                            OLS Regression Results                            \n",
      "==============================================================================\n",
      "Dep. Variable:              R_A / 1/s   R-squared:                       0.744\n",
      "Model:                            OLS   Adj. R-squared:                  0.740\n",
      "Method:                 Least Squares   F-statistic:                     214.9\n",
      "Date:                Sat, 22 May 2021   Prob (F-statistic):           1.38e-23\n",
      "Time:                        20:09:43   Log-Likelihood:                -269.23\n",
      "No. Observations:                  76   AIC:                             542.5\n",
      "Df Residuals:                      74   BIC:                             547.1\n",
      "Df Model:                           1                                         \n",
      "Covariance Type:            nonrobust                                         \n",
      "==============================================================================\n",
      "                 coef    std err          t      P>|t|      [0.025      0.975]\n",
      "------------------------------------------------------------------------------\n",
      "const         42.8592      1.962     21.842      0.000      38.949      46.769\n",
      "DEF=t / s     -0.0637      0.004    -14.661      0.000      -0.072      -0.055\n",
      "==============================================================================\n",
      "Omnibus:                       26.422   Durbin-Watson:                   0.907\n",
      "Prob(Omnibus):                  0.000   Jarque-Bera (JB):              152.591\n",
      "Skew:                          -0.700   Prob(JB):                     7.33e-34\n",
      "Kurtosis:                       9.799   Cond. No.                         912.\n",
      "==============================================================================\n",
      "\n",
      "Notes:\n",
      "[1] Standard Errors assume that the covariance matrix of the errors is correctly specified.\n"
     ]
    }
   ],
   "source": [
    "ND = pd.read_csv('./Percobaan.txt', sep = '\\t')\n",
    "\n",
    "x = ND[\"DEF=t / s\"]\n",
    "y = ND[\"R_A / 1/s\"]\n",
    "x_const = sm.add_constant(x)\n",
    "hasil = sm.OLS(y, x_const).fit()\n",
    "\n",
    "const = hasil.params[0]\n",
    "grad = hasil.params[1]\n",
    "print(\"Persamaan:\\ny =\", grad, \"x +\", const)\n",
    "\n",
    "grad_err = hasil.bse[1]\n",
    "const_err = hasil.bse[0]\n",
    "print(\"Kesalahan: \\ndelta m = \", grad_err, \"\\ndelta c = \", const_err)\n",
    "\n",
    "y_predict = grad*x + const\n",
    "plt.plot(x, y)\n",
    "plt.legend()\n",
    "plt.xlabel(\"t (s)\")\n",
    "plt.ylabel(\"RA1\")\n",
    "plt.title(\"Peluruhan Half-Life BA-137m\")\n",
    "plt.grid()\n",
    "plt.show()\n",
    "\n",
    "print(hasil.summary())"
   ]
  },
  {
   "cell_type": "code",
   "execution_count": null,
   "id": "9faf0052",
   "metadata": {},
   "outputs": [],
   "source": []
  }
 ],
 "metadata": {
  "kernelspec": {
   "display_name": "Python 3",
   "language": "python",
   "name": "python3"
  },
  "language_info": {
   "codemirror_mode": {
    "name": "ipython",
    "version": 3
   },
   "file_extension": ".py",
   "mimetype": "text/x-python",
   "name": "python",
   "nbconvert_exporter": "python",
   "pygments_lexer": "ipython3",
   "version": "3.8.8"
  }
 },
 "nbformat": 4,
 "nbformat_minor": 5
}
