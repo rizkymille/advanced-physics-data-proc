{
 "cells": [
  {
   "cell_type": "code",
   "execution_count": 1,
   "metadata": {},
   "outputs": [],
   "source": [
    "import pandas as pd\n",
    "import statsmodels.api as sm\n",
    "import matplotlib.pyplot as plt\n",
    "import numpy as np\n",
    "%matplotlib inline"
   ]
  },
  {
   "cell_type": "markdown",
   "metadata": {},
   "source": [
    "# Percobaan 1 Mencari Emisivitas"
   ]
  },
  {
   "cell_type": "code",
   "execution_count": 3,
   "metadata": {},
   "outputs": [
    {
     "name": "stdout",
     "output_type": "stream",
     "text": [
      "       Intensitas (Power 5) (mV)  Intensitas (Power 6) (mV)  e (Power 5)  \\\n",
      "Hitam                        1.1                        3.5   100.000000   \n",
      "Putih                        1.0                        3.2    90.909091   \n",
      "Kasar                        0.8                        2.7    72.727273   \n",
      "Halus                        0.5                        1.8    45.454545   \n",
      "\n",
      "       e (Power 6)  \n",
      "Hitam   100.000000  \n",
      "Putih    91.428571  \n",
      "Kasar    77.142857  \n",
      "Halus    51.428571  \n"
     ]
    }
   ],
   "source": [
    "df_perc1 = pd.read_csv(\"Percobaan 1.txt\", sep=\"\\t\", index_col=0)\n",
    "df_perc1[\"e (Power 5)\"] = (df_perc1[\"Intensitas (Power 5) (mV)\"]/df_perc1.loc[\"Hitam\", \"Intensitas (Power 5) (mV)\"])*100\n",
    "df_perc1[\"e (Power 6)\"] = (df_perc1[\"Intensitas (Power 6) (mV)\"]/df_perc1.loc[\"Hitam\", \"Intensitas (Power 6) (mV)\"])*100\n",
    "print(df_perc1)"
   ]
  },
  {
   "cell_type": "markdown",
   "metadata": {},
   "source": [
    "# Percobaan 2 Hukum Stefan-Boltzmann"
   ]
  },
  {
   "cell_type": "code",
   "execution_count": 18,
   "metadata": {},
   "outputs": [
    {
     "data": {
      "image/png": "[encoded data removed]",
      "text/plain": [
       "<Figure size 432x288 with 1 Axes>"
      ]
     },
     "metadata": {
      "needs_background": "light"
     },
     "output_type": "display_data"
    }
   ],
   "source": [
    "df_perc2 = pd.read_csv(\"Percobaan 2.txt\", sep=\"\\t\")\n",
    "\n",
    "# regresi polinomial pangkat 4 (T^4)\n",
    "model_perc2 = np.poly1d(np.polyfit(df_perc2[\"T^4(K^4)\"], df_perc2[\"Intensitas (mV)\"], 4))\n",
    "line = np.linspace(min(df_perc2[\"T^4(K^4)\"]), max(df_perc2[\"T^4(K^4)\"]))\n",
    "plt.plot(line, model_perc2(line))\n",
    "\n",
    "# plot grafik data\n",
    "plt.plot(df_perc2[\"T^4(K^4)\"], df_perc2[\"Intensitas (mV)\"])\n",
    "plt.xlabel(\"Temperatur (T^4)\")\n",
    "plt.ylabel(\"Intensitas (mV)\")\n",
    "plt.title(\"Plot Percobaan 2 Hukum Stefan-Boltzmann\")\n",
    "plt.show()"
   ]
  },
  {
   "cell_type": "code",
   "execution_count": null,
   "metadata": {},
   "outputs": [],
   "source": []
  }
 ],
 "metadata": {
  "kernelspec": {
   "display_name": "Python 3",
   "language": "python",
   "name": "python3"
  },
  "language_info": {
   "codemirror_mode": {
    "name": "ipython",
    "version": 3
   },
   "file_extension": ".py",
   "mimetype": "text/x-python",
   "name": "python",
   "nbconvert_exporter": "python",
   "pygments_lexer": "ipython3",
   "version": "3.8.5"
  }
 },
 "nbformat": 4,
 "nbformat_minor": 4
}
